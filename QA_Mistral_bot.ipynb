{
  "nbformat": 4,
  "nbformat_minor": 0,
  "metadata": {
    "colab": {
      "provenance": [],
      "gpuType": "T4"
    },
    "kernelspec": {
      "name": "python3",
      "display_name": "Python 3"
    },
    "language_info": {
      "name": "python"
    },
    "accelerator": "GPU"
  },
  "cells": [
    {
      "cell_type": "code",
      "execution_count": null,
      "metadata": {
        "id": "gv3IRdbgLlUB"
      },
      "outputs": [],
      "source": [
        "# Langchain with Mistral model"
      ]
    },
    {
      "cell_type": "code",
      "source": [
        "# installing dependencies\n",
        "!pip install langchain\n",
        "!pip install torch\n",
        "\n",
        "!pip install huggingface-hub\n",
        "!pip install sentence_transformers\n",
        "!pip install faiss-cpu\n",
        "!pip install llama-cpp-python\n",
        "!pip -q install accelerate\n",
        "!pip -q install git+https://github.com/huggingface/transformers.git"
      ],
      "metadata": {
        "id": "yQK6drR8Lrey",
        "colab": {
          "base_uri": "https://localhost:8080/"
        },
        "outputId": "c6376b84-4a10-435c-dd85-b4f6f15587a4"
      },
      "execution_count": null,
      "outputs": [
        {
          "output_type": "stream",
          "name": "stdout",
          "text": [
            "  Installing build dependencies ... \u001b[?25l\u001b[?25hdone\n",
            "  Getting requirements to build wheel ... \u001b[?25l\u001b[?25hdone\n",
            "  Preparing metadata (pyproject.toml) ... \u001b[?25l\u001b[?25hdone\n"
          ]
        }
      ]
    },
    {
      "cell_type": "code",
      "source": [
        "!pip install pypdf"
      ],
      "metadata": {
        "id": "_tqRY4arV2AT",
        "colab": {
          "base_uri": "https://localhost:8080/"
        },
        "outputId": "1047e425-6dd2-421b-b496-0e0d1974f8f2"
      },
      "execution_count": null,
      "outputs": [
        {
          "output_type": "stream",
          "name": "stdout",
          "text": [
            "Requirement already satisfied: pypdf in /usr/local/lib/python3.10/dist-packages (3.17.4)\n"
          ]
        }
      ]
    },
    {
      "cell_type": "code",
      "source": [
        "# importing dependencies\n",
        "from langchain.chains import RetrievalQA\n",
        "from langchain.embeddings import HuggingFaceEmbeddings\n",
        "from langchain.llms import LlamaCpp\n",
        "from langchain.text_splitter import RecursiveCharacterTextSplitter\n",
        "from langchain.vectorstores import FAISS\n",
        "from langchain.document_loaders import PyPDFDirectoryLoader"
      ],
      "metadata": {
        "id": "eRaX807NM_EF"
      },
      "execution_count": null,
      "outputs": []
    },
    {
      "cell_type": "code",
      "source": [
        "# load pdf files\n",
        "loader = PyPDFDirectoryLoader('/content/drive/MyDrive/')\n",
        "data = loader.load()"
      ],
      "metadata": {
        "id": "CQAe0uu4OmKm"
      },
      "execution_count": null,
      "outputs": []
    },
    {
      "cell_type": "code",
      "source": [
        "# divinding into chunks\n",
        "splitter = RecursiveCharacterTextSplitter(chunk_size = 1000, chunk_overlap=20)\n",
        "splits = splitter.split_documents(documents=data)"
      ],
      "metadata": {
        "id": "szXHsk0QQDFF"
      },
      "execution_count": null,
      "outputs": []
    },
    {
      "cell_type": "code",
      "source": [
        "# creating embeddings\n",
        "embeddings = HuggingFaceEmbeddings(model_name='sentence-transformers/all-MiniLM-L6-v2')"
      ],
      "metadata": {
        "id": "InPYvVbdRW68"
      },
      "execution_count": null,
      "outputs": []
    },
    {
      "cell_type": "code",
      "source": [
        "# create vector stores of chunks by converting it to embeddings\n",
        "vector_stores = FAISS.from_documents(splits, embedding=embeddings)"
      ],
      "metadata": {
        "id": "hl3BO_LkRYWp"
      },
      "execution_count": null,
      "outputs": []
    },
    {
      "cell_type": "code",
      "source": [
        "# importing mistral 7B model\n",
        "llm = LlamaCpp(\n",
        "    streaming = True,\n",
        "    model_path = '/content/drive/MyDrive/Sharer.pw/mistral-7b-instruct-v0.1.Q4_K_M.gguf',\n",
        "    temperature=0,\n",
        "    top_p=1,\n",
        "    n_ctx=4096,\n",
        "    verbose= True\n",
        "\n",
        ")"
      ],
      "metadata": {
        "id": "vKOZRkw3TQuW",
        "colab": {
          "base_uri": "https://localhost:8080/"
        },
        "outputId": "771876f5-adcd-4539-b783-543626f97077"
      },
      "execution_count": null,
      "outputs": [
        {
          "output_type": "stream",
          "name": "stderr",
          "text": [
            "AVX = 1 | AVX2 = 1 | AVX512 = 1 | AVX512_VBMI = 0 | AVX512_VNNI = 0 | FMA = 1 | NEON = 0 | ARM_FMA = 0 | F16C = 1 | FP16_VA = 0 | WASM_SIMD = 0 | BLAS = 0 | SSE3 = 1 | SSSE3 = 1 | VSX = 0 | \n"
          ]
        }
      ]
    },
    {
      "cell_type": "code",
      "source": [
        "qa = RetrievalQA.from_chain_type(llm=llm,chain_type=\"stuff\",retriever=vector_stores.as_retriever(search_kwargs = {\"k\":2}))"
      ],
      "metadata": {
        "id": "5dA0wGg0oblS"
      },
      "execution_count": null,
      "outputs": []
    },
    {
      "cell_type": "code",
      "source": [
        "query = \"summarize the pdf in bullets\"\n"
      ],
      "metadata": {
        "id": "1QdhdbeeCvYC"
      },
      "execution_count": null,
      "outputs": []
    },
    {
      "cell_type": "code",
      "source": [
        "qa.run(query)"
      ],
      "metadata": {
        "colab": {
          "base_uri": "https://localhost:8080/",
          "height": 127
        },
        "id": "2S8NkVSlHOlA",
        "outputId": "63be27e8-df41-41f7-fd52-bd12da369765"
      },
      "execution_count": null,
      "outputs": [
        {
          "metadata": {
            "tags": null
          },
          "name": "stderr",
          "output_type": "stream",
          "text": [
            "Llama.generate: prefix-match hit\n"
          ]
        },
        {
          "output_type": "execute_result",
          "data": {
            "text/plain": [
              "'\\n\\n* The PDF discusses the concept of queues and their importance in computer science.\\n* Queues are used to manage data flow and synchronization in various applications, including operating systems, databases, and network protocols.\\n* There are different types of queue implementations, such as circular queues, linked lists, and arrays.\\n* Each implementation has its own advantages and disadvantages, depending on the specific use case.\\n* The PDF also covers some common operations that can be performed on queues, such as enqueueing, dequeuing, and traversing.\\n* Enqueueing adds an element to the end of the queue, while dequeuing removes the first element from the front of the queue.\\n* Traversing is a process of accessing all elements in the queue one by one, starting from the front.\\n* The PDF also discusses some important concepts related to queues, such as priority queues and message passing.\\n* Priority queues are used to manage data with different levels of importance or urgency, while message passing is a technique for communication between processes in a distributed system.'"
            ],
            "application/vnd.google.colaboratory.intrinsic+json": {
              "type": "string"
            }
          },
          "metadata": {},
          "execution_count": 15
        }
      ]
    },
    {
      "cell_type": "code",
      "source": [],
      "metadata": {
        "id": "cp8OV_-pHP5t"
      },
      "execution_count": null,
      "outputs": []
    }
  ]
}